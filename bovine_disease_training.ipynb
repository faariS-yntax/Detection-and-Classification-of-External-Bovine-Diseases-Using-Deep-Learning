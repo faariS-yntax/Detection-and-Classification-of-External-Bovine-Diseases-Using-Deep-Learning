{
  "cells": [
    {
      "cell_type": "markdown",
      "metadata": {
        "id": "gtEGrkGWYvz0"
      },
      "source": [
        "# Setup\n"
      ]
    },
    {
      "cell_type": "code",
      "execution_count": null,
      "metadata": {
        "id": "Slvc5RgBJEr3"
      },
      "outputs": [],
      "source": [
        "!nvidia-smi"
      ]
    },
    {
      "cell_type": "markdown",
      "metadata": {
        "id": "JvCDJ95VY0En"
      },
      "source": [
        "Create a `HOME` constant\n"
      ]
    },
    {
      "cell_type": "code",
      "execution_count": null,
      "metadata": {
        "id": "UBnCK3nOJHUI"
      },
      "outputs": [],
      "source": [
        "import os\n",
        "HOME = os.getcwd()\n",
        "print(HOME)"
      ]
    },
    {
      "cell_type": "markdown",
      "metadata": {
        "id": "fN2UOCdYY7bK"
      },
      "source": [
        "Install YOLOv11 via Ultralytics"
      ]
    },
    {
      "cell_type": "code",
      "execution_count": null,
      "metadata": {
        "id": "kztCi6GbJIxH"
      },
      "outputs": [],
      "source": [
        "%pip install \"ultralytics<=8.3.40\" supervision roboflow\n",
        "!pip install roboflow\n",
        "import ultralytics\n",
        "ultralytics.checks()"
      ]
    },
    {
      "cell_type": "markdown",
      "metadata": {
        "id": "LztoeftqY-_n"
      },
      "source": [
        "Create folder for dataaset and import the dataset from Roboflow"
      ]
    },
    {
      "cell_type": "markdown",
      "metadata": {
        "id": "sJBhmxrApIR_"
      },
      "source": [
        "# Training"
      ]
    },
    {
      "cell_type": "markdown",
      "metadata": {
        "id": "ifgbsykopKuZ"
      },
      "source": [
        "## Import dataset from Roboflow"
      ]
    },
    {
      "cell_type": "code",
      "execution_count": null,
      "metadata": {
        "id": "S9xT29ATJLZk"
      },
      "outputs": [],
      "source": [
        "!mkdir {HOME}/datasets\n",
        "%cd {HOME}/datasets\n",
        "\n",
        "from google.colab import userdata\n",
        "from roboflow import Roboflow\n",
        "rf = Roboflow(api_key=\"API KEY\")\n",
        "project = rf.workspace(\"WORKSPACE ID\").project(\"PROJECT ID\")\n",
        "version = project.version(\"DATASET VERSION\")\n",
        "dataset = version.download(\"yolov11\")\n"
      ]
    },
    {
      "cell_type": "markdown",
      "metadata": {
        "id": "LSgllK-WQTPE"
      },
      "source": [
        "## Import dataset from Google Drive"
      ]
    },
    {
      "cell_type": "code",
      "execution_count": null,
      "metadata": {
        "id": "SfRJqxmRQXTG"
      },
      "outputs": [],
      "source": [
        "%cd {HOME}\n",
        "\n",
        "# Replace 'path/to/your/dataset.zip' with the actual path to your zip file in Google Drive\n",
        "zip_path = '/content/drive/MyDrive/Sem 8/FYP 2/Bovine Disease Detection-Combined.v1i.yolov11.image_balancedv2_1300.zip'\n",
        "dataset_dir = os.path.join(HOME, 'datasets', 'Bovine Disease Detection-Combined.v1i.yolov11.image_balancedv2_1300')\n",
        "\n",
        "# Unzip the dataset\n",
        "!mkdir -p \"{dataset_dir}\"\n",
        "!unzip -q \"{zip_path}\" -d \"{dataset_dir}\"\n",
        "\n",
        "dataset = dataset_dir\n",
        "\n",
        "print(f\"Dataset unzipped to: {dataset}\")"
      ]
    },
    {
      "cell_type": "markdown",
      "metadata": {
        "id": "JjuuSHsJZGGl"
      },
      "source": [
        "## Training"
      ]
    },
    {
      "cell_type": "code",
      "execution_count": null,
      "metadata": {
        "id": "iVnViYlpbFZq"
      },
      "outputs": [],
      "source": [
        "%cd {HOME}\n",
        "\n",
        "# Replace \"{dataset.location}/data.yaml\" to \"{dataset}/data.yaml\" for datsets imported from Google Drive\n",
        "!yolo task=detect mode=train model=yolo11s.pt data=\"{dataset.location}/data.yaml\" epochs=100 patience=10 cos_lr=True imgsz=640 plots=True optimizer=\"AdamW\""
      ]
    },
    {
      "cell_type": "markdown",
      "metadata": {
        "id": "Z8EBBz7EpTqj"
      },
      "source": [
        "## Examine result outputs"
      ]
    },
    {
      "cell_type": "code",
      "execution_count": null,
      "metadata": {
        "id": "Z9gMp8GWbIye"
      },
      "outputs": [],
      "source": [
        "!ls {HOME}/runs/detect/train/"
      ]
    },
    {
      "cell_type": "markdown",
      "metadata": {
        "id": "tzZNMIKRpWz6"
      },
      "source": [
        "## Confusion Matrix\n"
      ]
    },
    {
      "cell_type": "code",
      "execution_count": null,
      "metadata": {
        "id": "Lh5TyvkUbKTj"
      },
      "outputs": [],
      "source": [
        "from IPython.display import Image as IPyImage\n",
        "\n",
        "IPyImage(filename=f'{HOME}/runs/detect/train/confusion_matrix.png', width=600)"
      ]
    },
    {
      "cell_type": "markdown",
      "metadata": {
        "id": "Zr-q4Lilpbqk"
      },
      "source": [
        "## Training metrics"
      ]
    },
    {
      "cell_type": "code",
      "execution_count": null,
      "metadata": {
        "id": "QN0dB30wbMGP"
      },
      "outputs": [],
      "source": [
        "from IPython.display import Image as IPyImage\n",
        "\n",
        "IPyImage(filename=f'{HOME}/runs/detect/train/results.png', width=600)"
      ]
    },
    {
      "cell_type": "code",
      "execution_count": null,
      "metadata": {
        "id": "GNOK8w2TbNr-"
      },
      "outputs": [],
      "source": [
        "from IPython.display import Image as IPyImage\n",
        "\n",
        "IPyImage(filename=f'{HOME}/runs/detect/train/val_batch0_pred.jpg', width=600)"
      ]
    },
    {
      "cell_type": "markdown",
      "metadata": {
        "id": "p6iX13S_pkn7"
      },
      "source": [
        "## Validate model\n"
      ]
    },
    {
      "cell_type": "code",
      "execution_count": null,
      "metadata": {
        "id": "Y-Oz4G8fbQ1H"
      },
      "outputs": [],
      "source": [
        "!yolo task=detect mode=val model={HOME}/runs/detect/train/weights/best.pt data=\"{dataset.location}/data.yaml\""
      ]
    },
    {
      "cell_type": "markdown",
      "metadata": {
        "id": "fUFbXb8SptHL"
      },
      "source": [
        "# Inference"
      ]
    },
    {
      "cell_type": "code",
      "execution_count": null,
      "metadata": {
        "id": "eilyY4GybWsh"
      },
      "outputs": [],
      "source": [
        "!yolo task=detect mode=predict model={HOME}/runs/detect/train/weights/best.pt conf=0.25 source=\"{dataset.location}/test/images\" save=True"
      ]
    },
    {
      "cell_type": "code",
      "execution_count": null,
      "metadata": {
        "id": "h7R0UX19bYbp"
      },
      "outputs": [],
      "source": [
        "import glob\n",
        "import os\n",
        "from IPython.display import Image as IPyImage, display\n",
        "\n",
        "latest_folder = max(glob.glob(f'{HOME}/runs/detect/predict*/'), key=os.path.getmtime)\n",
        "for img in glob.glob(f'{latest_folder}/*.jpg')[:3]:\n",
        "    display(IPyImage(filename=img, width=600))\n",
        "    print(\"\\n\")"
      ]
    },
    {
      "cell_type": "code",
      "execution_count": null,
      "metadata": {
        "id": "r_2tYBHddFAe"
      },
      "outputs": [],
      "source": [
        "from google.colab import files\n",
        "import os\n",
        "import shutil\n",
        "\n",
        "# Define the source folder path\n",
        "source_folder = os.path.join(HOME, 'runs')\n",
        "\n",
        "# Define the destination zip file path\n",
        "destination_zip = 'runs.zip'\n",
        "\n",
        "# Create the zip file\n",
        "shutil.make_archive(destination_zip.replace('.zip', ''), 'zip', source_folder)\n",
        "\n",
        "# Download the zip file\n",
        "files.download(destination_zip)"
      ]
    },
    {
      "cell_type": "markdown",
      "metadata": {
        "id": "IQhYEOXjqPED"
      },
      "source": [
        "# Export model to Roboflow"
      ]
    },
    {
      "cell_type": "code",
      "execution_count": null,
      "metadata": {
        "id": "nRxAjWhObaWR"
      },
      "outputs": [],
      "source": [
        "project.version(dataset.version).deploy(model_type=\"yolov11\", model_path=f\"{HOME}/runs/detect/train/\")"
      ]
    },
    {
      "cell_type": "code",
      "execution_count": null,
      "metadata": {
        "collapsed": true,
        "id": "RMcM47xtbbm4"
      },
      "outputs": [],
      "source": [
        "!pip install inference"
      ]
    },
    {
      "cell_type": "code",
      "execution_count": null,
      "metadata": {
        "id": "2IgRSqcBbdqS"
      },
      "outputs": [],
      "source": [
        "import os, random, cv2\n",
        "import supervision as sv\n",
        "import IPython\n",
        "import inference\n",
        "\n",
        "model_id = project.id.split(\"/\")[1] + \"/\" + dataset.version\n",
        "model = inference.get_model(model_id, userdata.get('ROBOFLOW_API_KEY'))\n",
        "\n",
        "# Location of test set images\n",
        "test_set_loc = dataset.location + \"/test/images/\"\n",
        "test_images = os.listdir(test_set_loc)\n",
        "\n",
        "# Run inference on 4 random test images, or fewer if fewer images are available\n",
        "for img_name in random.sample(test_images, min(4, len(test_images))):\n",
        "    print(\"Running inference on \" + img_name)\n",
        "\n",
        "    # Load image\n",
        "    image = cv2.imread(os.path.join(test_set_loc, img_name))\n",
        "\n",
        "    # Perform inference\n",
        "    results = model.infer(image, confidence=0.4, overlap=30)[0]\n",
        "    detections = sv.Detections.from_inference(results)\n",
        "\n",
        "    # Annotate boxes and labels\n",
        "    box_annotator = sv.BoxAnnotator()\n",
        "    label_annotator = sv.LabelAnnotator()\n",
        "    annotated_image = box_annotator.annotate(scene=image, detections=detections)\n",
        "    annotated_image = label_annotator.annotate(scene=annotated_image, detections=detections)\n",
        "\n",
        "    # Display annotated image\n",
        "    _, ret = cv2.imencode('.jpg', annotated_image)\n",
        "    i = IPython.display.Image(data=ret)\n",
        "    IPython.display.display(i)"
      ]
    }
  ],
  "metadata": {
    "accelerator": "GPU",
    "colab": {
      "gpuType": "L4",
      "provenance": []
    },
    "kernelspec": {
      "display_name": "Python 3",
      "name": "python3"
    },
    "language_info": {
      "name": "python"
    }
  },
  "nbformat": 4,
  "nbformat_minor": 0
}
